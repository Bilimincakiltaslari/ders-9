{
 "cells": [
  {
   "cell_type": "code",
   "execution_count": 3,
   "metadata": {},
   "outputs": [
    {
     "name": "stdout",
     "output_type": "stream",
     "text": [
      "1 * 2 = 2\n",
      "2 * 3 = 6\n",
      "3 * 4 = 12\n",
      "4 * 5 = 20\n",
      "5 * 6 = 30\n",
      "6 * 7 = 42\n",
      "7 * 8 = 56\n",
      "8 * 9 = 72\n",
      "9 * 10 = 90\n",
      "10 * 11 = 110\n"
     ]
    }
   ],
   "source": [
    "i = 0\n",
    "while (i < 10):\n",
    "    i=i+1\n",
    "    print(i,\"*\",i+1,\"=\",i*(i+1))"
   ]
  },
  {
   "cell_type": "code",
   "execution_count": 4,
   "metadata": {},
   "outputs": [
    {
     "name": "stdout",
     "output_type": "stream",
     "text": [
      "i=  1\n",
      "i=  2\n",
      "i=  3\n",
      "i=  4\n",
      "i=  5\n",
      "i=  6\n",
      "i=  7\n",
      "i=  8\n",
      "i=  9\n",
      "i=  10\n"
     ]
    }
   ],
   "source": [
    "i = 0\n",
    "while (i < 10):\n",
    "    i=i+1\n",
    "    print(\"i= \",i)"
   ]
  },
  {
   "cell_type": "code",
   "execution_count": null,
   "metadata": {},
   "outputs": [],
   "source": [
    "# ŞİMDİ SADECE 1 DEN 29 A KADAR TEK SAYILARI YAZALIM\n"
   ]
  },
  {
   "cell_type": "code",
   "execution_count": null,
   "metadata": {},
   "outputs": [],
   "source": [
    "# ŞİMDİ SADECE 2 DEN 36 YA KADAR ÇİFT SAYILARI YAZALIM\n"
   ]
  },
  {
   "cell_type": "code",
   "execution_count": null,
   "metadata": {},
   "outputs": [],
   "source": [
    "# ŞİMDİ 1 DEN 15 E KADAR SAYILARIN ARDAŞIK ÇARPIMLARINI BULALIM\n",
    "# ÖRNEK SAYI 3 İSE 3 * 4 = 12 EDER\n",
    "# ÖRNEK SAYI 7 İSE 7 * 8 = 56 EDER\n"
   ]
  },
  {
   "cell_type": "code",
   "execution_count": null,
   "metadata": {},
   "outputs": [],
   "source": [
    "i = 0\n",
    "while (i < 10):\n",
    "    i=i+1\n",
    "    print(i,\"*\",i+1,\"=\",i*(i+1))"
   ]
  },
  {
   "cell_type": "code",
   "execution_count": null,
   "metadata": {},
   "outputs": [],
   "source": [
    "liste = [1,2,3,4,5,6]\n",
    "\n",
    "for i in liste :\n",
    "    print(i)"
   ]
  },
  {
   "cell_type": "code",
   "execution_count": null,
   "metadata": {},
   "outputs": [],
   "source": [
    "index = 0\n",
    "liste = [1,2,3,4,5,6]\n",
    "\n",
    "while (index < len(liste)):\n",
    "    print(\"index= \",index,\" iken listenin elemanı\",liste[index],\" dir.\")\n",
    "    index +=1"
   ]
  },
  {
   "cell_type": "code",
   "execution_count": null,
   "metadata": {},
   "outputs": [],
   "source": [
    "sayi = 0\n",
    "listad = [\"Demet\",\"Raşit\",\"Derin\",\"Aytek\",\"Canan\",\"Nursabah\",\"Oğulcan\"]\n",
    "while (sayi < len(listad)):\n",
    "    isimno = int(input(\"index numarasını girin\"))\n",
    "    if isimno < len(listad) and isimno >= 0:\n",
    "        print(\"\\033[94m \")\n",
    "        print(isimno,\"nolu eleman\",listad[isimno],\"dir\")\n",
    "        sayi = sayi + 1\n",
    "    else:\n",
    "        print(\"\\033[91m Olmayan index numarası girdiniz\")\n",
    "print(\"\\033[92m \")\n",
    "print(\"liste bitmiştir\")"
   ]
  },
  {
   "cell_type": "code",
   "execution_count": null,
   "metadata": {},
   "outputs": [],
   "source": [
    "a=0\n",
    "while(a<100):\n",
    "    a=a+1\n",
    "    while(int=a/5):\n",
    "    print(\"BOM!\")\n",
    "while(int=a/7):\n",
    "    print(\"GÜM!\")\n",
    "\n",
    "    "
   ]
  },
  {
   "cell_type": "code",
   "execution_count": null,
   "metadata": {},
   "outputs": [],
   "source": []
  }
 ],
 "metadata": {
  "kernelspec": {
   "display_name": "Python 3",
   "language": "python",
   "name": "python3"
  },
  "language_info": {
   "codemirror_mode": {
    "name": "ipython",
    "version": 3
   },
   "file_extension": ".py",
   "mimetype": "text/x-python",
   "name": "python",
   "nbconvert_exporter": "python",
   "pygments_lexer": "ipython3",
   "version": "3.7.3"
  }
 },
 "nbformat": 4,
 "nbformat_minor": 2
}
